{
 "cells": [
  {
   "cell_type": "code",
   "execution_count": 3,
   "id": "bb0715ec",
   "metadata": {},
   "outputs": [],
   "source": [
    "fp1=open(\"Sales.csv\",\"r\")\n",
    "data=fp1.readline()"
   ]
  },
  {
   "cell_type": "code",
   "execution_count": 4,
   "id": "46c17c36",
   "metadata": {},
   "outputs": [],
   "source": [
    "Product_details=[]\n",
    "Supplier_details=dict()\n",
    "Customer_details=[]\n",
    "gender={}"
   ]
  },
  {
   "cell_type": "code",
   "execution_count": 5,
   "id": "9e44b996",
   "metadata": {},
   "outputs": [],
   "source": [
    "while(True):   \n",
    "   \n",
    "    data=fp1.readline()\n",
    "    if not data:\n",
    "        break;\n",
    "  \n",
    "    data=data.replace(\"\\n\",\"\")\n",
    "    temp=data.split(\",\")\n",
    "    Product_details.append(temp[1])\n",
    "    Customer_details.append(temp[3])\n",
    "    Supplier_details.update({temp[0]:temp[2]})\n",
    "    gender.update({temp[3]:temp[4]})\n",
    "\n",
    "\n",
    "\n"
   ]
  },
  {
   "cell_type": "code",
   "execution_count": 6,
   "id": "afe24b57",
   "metadata": {},
   "outputs": [],
   "source": [
    "\n",
    "fp1.close()\n"
   ]
  },
  {
   "cell_type": "code",
   "execution_count": 7,
   "id": "c44a2307",
   "metadata": {},
   "outputs": [],
   "source": [
    "Customer_details=tuple(Customer_details)"
   ]
  },
  {
   "cell_type": "code",
   "execution_count": 8,
   "id": "48c005b5",
   "metadata": {},
   "outputs": [
    {
     "name": "stdout",
     "output_type": "stream",
     "text": [
      "\n",
      "Product_details\n",
      " ['Lenovo Laptop', 'Samsung M31', 'Realmi 10pro', 'Oppo F21', 'Lenovo Laptop', 'Samsung M31', '\"LG TV 32\"\"\"', 'Oppo F21', 'Lenovo Laptop', 'Samsung M31', '\"LG TV 32\"\"\"', 'Lenovo Laptop', 'Samsung M31', 'Realmi 10pro', 'Lenovo Laptop', 'Oppo F21', '\"LG TV 32\"\"\"', 'Lenovo Laptop', 'Samsung M31', '\"LG TV 32\"\"\"']\n",
      "\n",
      "Customer_details\n",
      " ('Kaustubh Mahajan', 'Siddhi Kiwale', 'Sanket Kandalkar', 'Yash Mali', 'Yash Bagul', 'Siddhi Kiwale', 'Sanket Kandalkar', 'Kaustubh Mahajan', 'Yash Mali', 'Siddhi Kiwale', 'Sanket Kandalkar', 'Kaustubh Mahajan', 'Yash Mali', 'Siddhi Kiwale', 'Siddhi Kiwale', 'Kaustubh Mahajan', 'Sanket Kandalkar', 'Siddhi Kiwale', 'Kaustubh Mahajan', 'Yash Mali')\n",
      "\n",
      "Supplier_details\n",
      " {'P00001': 'Raka Ele.', 'P00002': 'Vijay Sales', 'P00003': 'Gada Ele.', 'P00004': 'Surya Ele.', 'P00005': 'Raka Ele.', 'P00006': 'Gada Ele.', 'P00007': 'Vijay Sales', 'P00008': 'Surya Ele.', 'P00009': 'Raka Ele.', 'P00010': 'Gada Ele.', 'P00011': 'Surya Ele.', 'P00012': 'Raka Ele.', 'P00013': 'Surya Ele.', 'P00014': 'Raka Ele.', 'P00015': 'Gada Ele.', 'P00016': 'Vijay Sales', 'P00017': 'Deshmukh sales', 'P00018': 'Raka Ele.', 'P00019': 'Deshmukh sales', 'P00020': 'Gada Ele.'}\n",
      "\n",
      "Gender_details\n",
      " {'Kaustubh Mahajan': 'Male', 'Siddhi Kiwale': 'Female', 'Sanket Kandalkar': 'Male', 'Yash Mali': 'Male', 'Yash Bagul': 'Male'}"
     ]
    }
   ],
   "source": [
    "print(\"\\nProduct_details\\n\",Product_details,end=\"\")\n",
    "print(\"\\n\\nCustomer_details\\n\",Customer_details,end=\"\")\n",
    "print(\"\\n\\nSupplier_details\\n\",Supplier_details,end=\"\")\n",
    "print(\"\\n\\nGender_details\\n\",gender,end=\"\")"
   ]
  },
  {
   "cell_type": "code",
   "execution_count": 9,
   "id": "77ddfc90",
   "metadata": {},
   "outputs": [
    {
     "name": "stdout",
     "output_type": "stream",
     "text": [
      "{'Lenovo Laptop': 6, 'Samsung M31': 5, 'Realmi 10pro': 2, 'Oppo F21': 3, '\"LG TV 32\"\"\"': 4}\n",
      "{'Lenovo Laptop': 6, 'Samsung M31': 5, '\"LG TV 32\"\"\"': 4, 'Oppo F21': 3, 'Realmi 10pro': 2}\n",
      "The most popular product for sales Lenovo Laptop  sold  6 times\n"
     ]
    }
   ],
   "source": [
    "#Popular Product\n",
    "\n",
    "frequency = {}\n",
    "for item in Product_details:\n",
    "   if item in frequency:\n",
    "      frequency[item] += 1\n",
    "   else:\n",
    "      frequency[item] = 1\n",
    "print(frequency)\n",
    "marklist = sorted(frequency.items(), key=lambda x:x[1],reverse=True)\n",
    "sortdict = dict(marklist)\n",
    "print(sortdict)\n",
    "print(\"The most popular product for sales\",list(sortdict.keys())[0],\" sold \",list(sortdict.values())[0],\"times\")"
   ]
  },
  {
   "cell_type": "code",
   "execution_count": 10,
   "id": "227ee3e1",
   "metadata": {},
   "outputs": [
    {
     "name": "stdout",
     "output_type": "stream",
     "text": [
      "{'Raka Ele.': 6, 'Vijay Sales': 3, 'Gada Ele.': 5, 'Surya Ele.': 4, 'Deshmukh sales': 2}\n",
      "{'Raka Ele.': 6, 'Gada Ele.': 5, 'Surya Ele.': 4, 'Vijay Sales': 3, 'Deshmukh sales': 2}\n",
      "The most popular Supplier for sales Raka Ele.  sold  6 Items\n"
     ]
    }
   ],
   "source": [
    "#Popular Supplier\n",
    "\n",
    "frequency = {}\n",
    "for item in Supplier_details.values():\n",
    "   if item in frequency:\n",
    "      frequency[item] += 1\n",
    "   else:\n",
    "      frequency[item] = 1\n",
    "print(frequency)\n",
    "marklist = sorted(frequency.items(), key=lambda x:x[1],reverse=True)\n",
    "sortdict = dict(marklist)\n",
    "print(sortdict)\n",
    "print(\"The most popular Supplier for sales\",list(sortdict.keys())[0],\n",
    "      \" sold \",list(sortdict.values())[0],\"Items\")"
   ]
  },
  {
   "cell_type": "code",
   "execution_count": 11,
   "id": "b13e31a4",
   "metadata": {},
   "outputs": [
    {
     "name": "stdout",
     "output_type": "stream",
     "text": [
      "Freqenct is as below:\n",
      " {'Kaustubh Mahajan': 5, 'Siddhi Kiwale': 6, 'Sanket Kandalkar': 4, 'Yash Mali': 4, 'Yash Bagul': 1}\n",
      "\n",
      "Sorted dict is as below:\n",
      " {'Siddhi Kiwale': 6, 'Kaustubh Mahajan': 5, 'Sanket Kandalkar': 4, 'Yash Mali': 4, 'Yash Bagul': 1}\n",
      "\n",
      "\n",
      "The customer who buys most of the products Siddhi Kiwale  buy  6 Items\n"
     ]
    }
   ],
   "source": [
    "#Costumer who yes most\n",
    "\n",
    "frequency = {}\n",
    "for item in Customer_details:\n",
    "   if item in frequency:\n",
    "      frequency[item] += 1\n",
    "   else:\n",
    "      frequency[item] = 1\n",
    "print(\"Freqenct is as below:\\n\",frequency)\n",
    "marklist = sorted(frequency.items(), key=lambda x:x[1],reverse=True)\n",
    "sortdict = dict(marklist)\n",
    "print(\"\\nSorted dict is as below:\\n\",sortdict)\n",
    "print(\"\\n\\nThe customer who buys most of the products\",list(sortdict.keys())[0],\n",
    "      \" buy \",list(sortdict.values())[0],\"Items\")"
   ]
  },
  {
   "cell_type": "code",
   "execution_count": 13,
   "id": "d85b1cf5",
   "metadata": {},
   "outputs": [
    {
     "name": "stdout",
     "output_type": "stream",
     "text": [
      "['Kaustubh Mahajan', 'Siddhi Kiwale', 'Sanket Kandalkar', 'Yash Mali', 'Yash Bagul']\n",
      "{'Kaustubh Mahajan': 5, 'Siddhi Kiwale': 6, 'Sanket Kandalkar': 4, 'Yash Mali': 4, 'Yash Bagul': 1}\n"
     ]
    }
   ],
   "source": [
    "#Female costomers\n",
    "\n",
    "from collections import Counter\n",
    "counter = dict(Counter(Customer_details))\n",
    "names=list(counter.keys())\n",
    "print(names)\n",
    "male=0\n",
    "female=0\n",
    "print(counter)\n",
    "\n",
    "for name in names:\n",
    "    if gender[name]==\"Male\":\n",
    "        male=male+1\n",
    "    if gender[name]==\"Female\":\n",
    "        female+=1\n",
    "# print(\"Total no of Male=\",male)\n",
    "# print(\"Total no of Female=\",female)"
   ]
  },
  {
   "cell_type": "code",
   "execution_count": null,
   "id": "52828a13",
   "metadata": {},
   "outputs": [],
   "source": []
  },
  {
   "cell_type": "code",
   "execution_count": null,
   "id": "7c3d8a20",
   "metadata": {},
   "outputs": [],
   "source": []
  },
  {
   "cell_type": "code",
   "execution_count": null,
   "id": "b59477ed",
   "metadata": {},
   "outputs": [],
   "source": []
  }
 ],
 "metadata": {
  "kernelspec": {
   "display_name": "Python 3 (ipykernel)",
   "language": "python",
   "name": "python3"
  },
  "language_info": {
   "codemirror_mode": {
    "name": "ipython",
    "version": 3
   },
   "file_extension": ".py",
   "mimetype": "text/x-python",
   "name": "python",
   "nbconvert_exporter": "python",
   "pygments_lexer": "ipython3",
   "version": "3.10.9"
  }
 },
 "nbformat": 4,
 "nbformat_minor": 5
}
