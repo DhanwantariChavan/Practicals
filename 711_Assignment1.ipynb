{
 "cells": [
  {
   "cell_type": "code",
   "execution_count": 2,
   "id": "7d5ed539",
   "metadata": {},
   "outputs": [
    {
     "name": "stdout",
     "output_type": "stream",
     "text": [
      "[['Roll No', 'name', 'Gender', 'DOB'], ['1', 'John', 'Male', '05-04-1988'], ['2', 'Mayur', 'Male', '04-05-1987'], ['3', 'Mangesh', 'Male', '25-05-1989'], ['4', 'Jessica', 'Female', '12-08-1990'], ['5', 'Jennifer', 'Female', '02-09-1989'], ['6', 'Ramesh', 'Male', '03-09-1989'], ['7', 'Suresh', 'Male', '04-09-1990'], ['8', 'Ganesh', 'Male', '05-10-1989'], ['9', 'Komal', 'Female', '06-09-1989'], ['10', 'Mayuri', 'Female', '07-02-1988']]\n"
     ]
    }
   ],
   "source": [
    "file=open('stud_info.csv','r')\n",
    "info=[]\n",
    "while True:                                        \n",
    "    data=file.readline()\n",
    "    if data:\n",
    "        data=data.replace(\"\\n\",\"\") \n",
    "        info.append(data.split(','))        \n",
    "    else:\n",
    "        break\n",
    "print(info)"
   ]
  },
  {
   "cell_type": "code",
   "execution_count": null,
   "id": "9dc78aa0",
   "metadata": {},
   "outputs": [],
   "source": []
  },
  {
   "cell_type": "code",
   "execution_count": 3,
   "id": "75e80ef5",
   "metadata": {},
   "outputs": [],
   "source": [
    "RollNo=[]\n",
    "Name=[]\n",
    "Gender=[]\n",
    "DOB=[]\n"
   ]
  },
  {
   "cell_type": "code",
   "execution_count": 4,
   "id": "5119e4d1",
   "metadata": {},
   "outputs": [],
   "source": [
    "for row in info[1:]:\n",
    "    RollNo.append(row[0])\n",
    "    Name.append(row[1])\n",
    "    Gender.append(row[2])\n",
    "    DOB.append(row[3])"
   ]
  },
  {
   "cell_type": "code",
   "execution_count": 5,
   "id": "77d3fbc5",
   "metadata": {},
   "outputs": [
    {
     "name": "stdout",
     "output_type": "stream",
     "text": [
      "['1', '2', '3', '4', '5', '6', '7', '8', '9', '10']\n",
      "['John', 'Mayur', 'Mangesh', 'Jessica', 'Jennifer', 'Ramesh', 'Suresh', 'Ganesh', 'Komal', 'Mayuri']\n",
      "['Male', 'Male', 'Male', 'Female', 'Female', 'Male', 'Male', 'Male', 'Female', 'Female']\n",
      "['05-04-1988', '04-05-1987', '25-05-1989', '12-08-1990', '02-09-1989', '03-09-1989', '04-09-1990', '05-10-1989', '06-09-1989', '07-02-1988']\n"
     ]
    }
   ],
   "source": [
    "print(RollNo)\n",
    "print(Name)\n",
    "print(Gender)\n",
    "print(DOB)"
   ]
  },
  {
   "cell_type": "code",
   "execution_count": 6,
   "id": "2d6b2f95",
   "metadata": {},
   "outputs": [
    {
     "name": "stdout",
     "output_type": "stream",
     "text": [
      "[['Roll', 'Maths', 'Physics', 'Chemistry', 'Total', 'Percentage'], ['1', '55', '45', '56', '156', '52.00'], ['2', '75', '55', '55', '185', '61.67'], ['3', '25', '54', '89', '168', '56.00'], ['4', '78', '55', '86', '219', '73.00'], ['5', '58', '96', '78', '232', '77.33'], ['6', '88', '78', '58', '224', '74.67'], ['7', '56', '89', '69', '214', '71.33'], ['8', '54', '55', '88', '197', '65.67'], ['9', '46', '66', '65', '177', '59.00'], ['10', '89', '87', '54', '230', '76.67']]\n"
     ]
    }
   ],
   "source": [
    "file=open('student_marks.csv','r')\n",
    "marks=[]\n",
    "while True:\n",
    "    data=file.readline()\n",
    "    if data:\n",
    "        data=data.replace(\"\\n\",\"\")\n",
    "        marks.append(data.split(','))        \n",
    "    else:\n",
    "        break\n",
    "print(marks)"
   ]
  },
  {
   "cell_type": "code",
   "execution_count": 7,
   "id": "07f2a956",
   "metadata": {},
   "outputs": [],
   "source": [
    "Maths=[]\n",
    "Physics=[]\n",
    "Chemistry=[]\n",
    "Total=[]\n",
    "Percentage=[]"
   ]
  },
  {
   "cell_type": "code",
   "execution_count": 8,
   "id": "16878cd9",
   "metadata": {},
   "outputs": [],
   "source": [
    "for row in marks[1:]:\n",
    "    Maths.append(row[1])\n",
    "    Physics.append(row[2])\n",
    "    Chemistry.append(row[3])\n",
    "    Total.append(row[4])\n",
    "    Percentage.append(row[5])"
   ]
  },
  {
   "cell_type": "code",
   "execution_count": 9,
   "id": "ec40a000",
   "metadata": {},
   "outputs": [
    {
     "name": "stdout",
     "output_type": "stream",
     "text": [
      "['55', '75', '25', '78', '58', '88', '56', '54', '46', '89']\n",
      "['45', '55', '54', '55', '96', '78', '89', '55', '66', '87']\n",
      "['56', '55', '89', '86', '78', '58', '69', '88', '65', '54']\n",
      "['156', '185', '168', '219', '232', '224', '214', '197', '177', '230']\n",
      "['52.00', '61.67', '56.00', '73.00', '77.33', '74.67', '71.33', '65.67', '59.00', '76.67']\n"
     ]
    }
   ],
   "source": [
    "print(Maths)\n",
    "print(Physics)\n",
    "print(Chemistry)\n",
    "print(Total)\n",
    "print(Percentage)"
   ]
  },
  {
   "cell_type": "code",
   "execution_count": 10,
   "id": "9c9c0715",
   "metadata": {},
   "outputs": [
    {
     "name": "stdout",
     "output_type": "stream",
     "text": [
      "[['Roll No', 'Company', 'JobRole', 'Package'], ['1', 'Infosys', 'Data Analyst', '10.2'], ['2', 'TCS', 'Java Developer', '9.6'], ['3', 'TCS', 'Data Scientist', '12.60'], ['4', 'Infosys', 'Data Analyst', '10.2'], ['5', 'Oracle', 'Java Developer', '9.6'], ['6', 'Oracle', 'Data Scientist', '12.60'], ['7', 'TCS', 'Tester', '6.50'], ['8', 'Infosys', 'Tester', '6.51'], ['9', 'Mindtree', 'Database Admin', '8.30'], ['10', 'Mindtree', 'Database Admin', '8.31']]\n"
     ]
    }
   ],
   "source": [
    "file=open('stud_placement.csv','r')\n",
    "placement=[]\n",
    "while True:\n",
    "    data=file.readline()\n",
    "    if data:\n",
    "        data=data.replace(\"\\n\",\"\")\n",
    "        placement.append(data.split(','))        \n",
    "    else:\n",
    "        break\n",
    "print(placement)"
   ]
  },
  {
   "cell_type": "code",
   "execution_count": 11,
   "id": "a9fd5bb0",
   "metadata": {},
   "outputs": [],
   "source": [
    "Company=[]\n",
    "JobRole=[]\n",
    "Package=[]"
   ]
  },
  {
   "cell_type": "code",
   "execution_count": 12,
   "id": "d018cdac",
   "metadata": {},
   "outputs": [],
   "source": [
    "for row in placement[1:]:\n",
    "    Company.append(row[1])\n",
    "    JobRole.append(row[2])\n",
    "    Package.append(row[3])"
   ]
  },
  {
   "cell_type": "code",
   "execution_count": 13,
   "id": "742bdf6f",
   "metadata": {},
   "outputs": [
    {
     "name": "stdout",
     "output_type": "stream",
     "text": [
      "['Infosys', 'TCS', 'TCS', 'Infosys', 'Oracle', 'Oracle', 'TCS', 'Infosys', 'Mindtree', 'Mindtree']\n",
      "['Data Analyst', 'Java Developer', 'Data Scientist', 'Data Analyst', 'Java Developer', 'Data Scientist', 'Tester', 'Tester', 'Database Admin', 'Database Admin']\n",
      "['10.2', '9.6', '12.60', '10.2', '9.6', '12.60', '6.50', '6.51', '8.30', '8.31']\n"
     ]
    }
   ],
   "source": [
    "print(Company)\n",
    "print(JobRole)\n",
    "print(Package)"
   ]
  },
  {
   "cell_type": "code",
   "execution_count": 15,
   "id": "0d19ec48",
   "metadata": {},
   "outputs": [
    {
     "name": "stdout",
     "output_type": "stream",
     "text": [
      "[['1', '2', '3', '4', '5', '6', '7', '8', '9', '10'], ['John', 'Mayur', 'Mangesh', 'Jessica', 'Jennifer', 'Ramesh', 'Suresh', 'Ganesh', 'Komal', 'Mayuri'], ['Male', 'Male', 'Male', 'Female', 'Female', 'Male', 'Male', 'Male', 'Female', 'Female'], ['05-04-1988', '04-05-1987', '25-05-1989', '12-08-1990', '02-09-1989', '03-09-1989', '04-09-1990', '05-10-1989', '06-09-1989', '07-02-1988'], ['55', '75', '25', '78', '58', '88', '56', '54', '46', '89'], ['45', '55', '54', '55', '96', '78', '89', '55', '66', '87'], ['56', '55', '89', '86', '78', '58', '69', '88', '65', '54'], ['156', '185', '168', '219', '232', '224', '214', '197', '177', '230'], ['52.00', '61.67', '56.00', '73.00', '77.33', '74.67', '71.33', '65.67', '59.00', '76.67'], ['Infosys', 'TCS', 'TCS', 'Infosys', 'Oracle', 'Oracle', 'TCS', 'Infosys', 'Mindtree', 'Mindtree'], ['Data Analyst', 'Java Developer', 'Data Scientist', 'Data Analyst', 'Java Developer', 'Data Scientist', 'Tester', 'Tester', 'Database Admin', 'Database Admin'], ['10.2', '9.6', '12.60', '10.2', '9.6', '12.60', '6.50', '6.51', '8.30', '8.31']]\n"
     ]
    }
   ],
   "source": [
    "studentdata=[]\n",
    "studentdata.append(RollNo)\n",
    "studentdata.append(Name)\n",
    "studentdata.append(Gender)\n",
    "studentdata.append(DOB)\n",
    "studentdata.append(Maths)\n",
    "studentdata.append(Physics)\n",
    "studentdata.append(Chemistry)\n",
    "studentdata.append(Total)\n",
    "studentdata.append(Percentage)\n",
    "studentdata.append(Company)\n",
    "studentdata.append(JobRole)\n",
    "studentdata.append(Package)\n",
    "print(studentdata)"
   ]
  },
  {
   "cell_type": "code",
   "execution_count": 16,
   "id": "d339d04d",
   "metadata": {},
   "outputs": [],
   "source": [
    "fw=open(\"StudentDetails.csv\",\"w\")"
   ]
  },
  {
   "cell_type": "code",
   "execution_count": 1,
   "id": "3e0106f8",
   "metadata": {},
   "outputs": [
    {
     "ename": "NameError",
     "evalue": "name 'studentdata' is not defined",
     "output_type": "error",
     "traceback": [
      "\u001b[1;31m---------------------------------------------------------------------------\u001b[0m",
      "\u001b[1;31mNameError\u001b[0m                                 Traceback (most recent call last)",
      "Cell \u001b[1;32mIn[1], line 2\u001b[0m\n\u001b[0;32m      1\u001b[0m s\u001b[38;5;241m=\u001b[39m[]\n\u001b[1;32m----> 2\u001b[0m \u001b[38;5;28;01mfor\u001b[39;00m i \u001b[38;5;129;01min\u001b[39;00m \u001b[38;5;28mrange\u001b[39m(\u001b[38;5;28mlen\u001b[39m(\u001b[43mstudentdata\u001b[49m[\u001b[38;5;241m0\u001b[39m])):\n\u001b[0;32m      3\u001b[0m     row\u001b[38;5;241m=\u001b[39m\u001b[38;5;28mlist\u001b[39m()\n\u001b[0;32m      4\u001b[0m     \u001b[38;5;28;01mfor\u001b[39;00m j \u001b[38;5;129;01min\u001b[39;00m \u001b[38;5;28mrange\u001b[39m(\u001b[38;5;28mlen\u001b[39m(studentdata)):\n",
      "\u001b[1;31mNameError\u001b[0m: name 'studentdata' is not defined"
     ]
    }
   ],
   "source": [
    "s=[]\n",
    "for i in range(len(studentdata[0])):\n",
    "    row=list()\n",
    "    for j in range(len(studentdata)):\n",
    "        data=studentdata[j][i]\n",
    "        row.append(data)\n",
    "    row.append('\\n')\n",
    "    s.append(\",\".join(row))"
   ]
  },
  {
   "cell_type": "code",
   "execution_count": 19,
   "id": "8626ad68",
   "metadata": {},
   "outputs": [
    {
     "data": {
      "text/plain": [
       "['1,John,Male,05-04-1988,55,45,56,156,52.00,Infosys,Data Analyst,10.2,\\n',\n",
       " '2,Mayur,Male,04-05-1987,75,55,55,185,61.67,TCS,Java Developer,9.6,\\n',\n",
       " '3,Mangesh,Male,25-05-1989,25,54,89,168,56.00,TCS,Data Scientist,12.60,\\n',\n",
       " '4,Jessica,Female,12-08-1990,78,55,86,219,73.00,Infosys,Data Analyst,10.2,\\n',\n",
       " '5,Jennifer,Female,02-09-1989,58,96,78,232,77.33,Oracle,Java Developer,9.6,\\n',\n",
       " '6,Ramesh,Male,03-09-1989,88,78,58,224,74.67,Oracle,Data Scientist,12.60,\\n',\n",
       " '7,Suresh,Male,04-09-1990,56,89,69,214,71.33,TCS,Tester,6.50,\\n',\n",
       " '8,Ganesh,Male,05-10-1989,54,55,88,197,65.67,Infosys,Tester,6.51,\\n',\n",
       " '9,Komal,Female,06-09-1989,46,66,65,177,59.00,Mindtree,Database Admin,8.30,\\n',\n",
       " '10,Mayuri,Female,07-02-1988,89,87,54,230,76.67,Mindtree,Database Admin,8.31,\\n']"
      ]
     },
     "execution_count": 19,
     "metadata": {},
     "output_type": "execute_result"
    }
   ],
   "source": [
    "s"
   ]
  },
  {
   "cell_type": "code",
   "execution_count": 21,
   "id": "9be42468",
   "metadata": {},
   "outputs": [],
   "source": [
    "fw.writelines(s)"
   ]
  },
  {
   "cell_type": "code",
   "execution_count": 22,
   "id": "58f6a04d",
   "metadata": {},
   "outputs": [],
   "source": [
    "fw.close()"
   ]
  },
  {
   "cell_type": "code",
   "execution_count": 42,
   "id": "70c4806c",
   "metadata": {},
   "outputs": [
    {
     "name": "stdout",
     "output_type": "stream",
     "text": [
      "Math Marks= ['55', '75', '25', '78', '58', '88', '56', '54', '46', '89']\n",
      "Phyics Marks= ['45', '55', '54', '55', '96', '78', '89', '55', '66', '87']\n",
      "Chemistry Marks= ['56', '55', '89', '86', '78', '58', '69', '88', '65', '54']\n"
     ]
    }
   ],
   "source": [
    "print(\"Math Marks=\",Maths)\n",
    "print(\"Phyics Marks=\",Physics)\n",
    "print(\"Chemistry Marks=\",Chemistry)\n",
    "math=[int(i) for i in Maths]\n",
    "physics=[int(i) for i in Physics]\n",
    "chemistry=[int(i) for i in Chemistry]\n",
    "sum_of_marks=[]\n",
    "average=[]\n",
    "\n",
    "for i in range(len(math)):\n",
    "    sum_of_marks.append(math[i]+physics[i]+chemistry[i])\n",
    "    average.append(int((math[i]+physics[i]+chemistry[i])/3))\n",
    "\n",
    "\n",
    "\n",
    "\n",
    "\n",
    " \n"
   ]
  },
  {
   "cell_type": "code",
   "execution_count": 43,
   "id": "9c0856ac",
   "metadata": {},
   "outputs": [
    {
     "name": "stdout",
     "output_type": "stream",
     "text": [
      "Sum of Marks= [156, 185, 168, 219, 232, 224, 214, 197, 177, 230]\n",
      "Average Marks= [52, 61, 56, 73, 77, 74, 71, 65, 59, 76]\n",
      "Maximum Marks= 77\n",
      "Maximum Marks= 52\n",
      "Total No of Student= 10\n",
      "Percentage= [57.78, 68.52, 62.22, 81.11, 85.93, 82.96, 79.26, 72.96, 65.56, 85.19]\n"
     ]
    }
   ],
   "source": [
    "print(\"Sum of Marks=\",sum_of_marks)\n",
    "print(\"Average Marks=\",average)\n",
    "print(\"Maximum Marks=\",max(average))\n",
    "print(\"Maximum Marks=\",min(average))\n",
    "print(\"Total No of Student=\",len(studentdata[0]))\n",
    "\n",
    "per=[]\n",
    "for i in range(len(sum_of_marks)):\n",
    "    per.append(round((100*sum_of_marks[i]/270),2))\n",
    "print(\"Percentage=\",per)"
   ]
  },
  {
   "cell_type": "code",
   "execution_count": 11,
   "id": "23474c71",
   "metadata": {},
   "outputs": [],
   "source": [
    "fp=open(\"stud_info.csv\",\"r\")"
   ]
  },
  {
   "cell_type": "code",
   "execution_count": 12,
   "id": "81b68621",
   "metadata": {},
   "outputs": [],
   "source": [
    "info=[]\n",
    "while True:\n",
    "    data=fp.readline()\n",
    "    if data:\n",
    "        data=data.replace(\"\\n\",\"\")\n",
    "        info.append(data.split(\",\"))\n",
    "    else:\n",
    "        break\n",
    "    "
   ]
  },
  {
   "cell_type": "code",
   "execution_count": 13,
   "id": "9895cbd2",
   "metadata": {},
   "outputs": [
    {
     "name": "stdout",
     "output_type": "stream",
     "text": [
      "[['Roll No', 'name', 'Gender', 'DOB'], ['1', 'John', 'Male', '05-04-1988'], ['2', 'Mayur', 'Male', '04-05-1987'], ['3', 'Mangesh', 'Male', '25-05-1989'], ['4', 'Jessica', 'Female', '12-08-1990'], ['5', 'Jennifer', 'Female', '02-09-1989'], ['6', 'Ramesh', 'Male', '03-09-1989'], ['7', 'Suresh', 'Male', '04-09-1990'], ['8', 'Ganesh', 'Male', '05-10-1989'], ['9', 'Komal', 'Female', '06-09-1989'], ['10', 'Mayuri', 'Female', '07-02-1988']]\n"
     ]
    }
   ],
   "source": [
    "print(info)"
   ]
  },
  {
   "cell_type": "code",
   "execution_count": 14,
   "id": "b19285bc",
   "metadata": {},
   "outputs": [],
   "source": [
    "rollno=[]\n",
    "name=[]\n",
    "gender=[]\n",
    "dob=[]\n"
   ]
  },
  {
   "cell_type": "code",
   "execution_count": 16,
   "id": "bcbd874b",
   "metadata": {},
   "outputs": [],
   "source": [
    "for i in info[1:]:\n",
    "    rollno.append(i[0])\n",
    "    name.append(i[1])\n",
    "    gender.append(i[2])\n",
    "    dob.append(i[3])\n",
    "    "
   ]
  },
  {
   "cell_type": "code",
   "execution_count": 17,
   "id": "caf5c3e9",
   "metadata": {},
   "outputs": [
    {
     "name": "stdout",
     "output_type": "stream",
     "text": [
      "['1', '2', '3', '4', '5', '6', '7', '8', '9', '10']\n"
     ]
    }
   ],
   "source": [
    "print(rollno)"
   ]
  },
  {
   "cell_type": "code",
   "execution_count": 18,
   "id": "b5f3de00",
   "metadata": {},
   "outputs": [
    {
     "name": "stdout",
     "output_type": "stream",
     "text": [
      "['John', 'Mayur', 'Mangesh', 'Jessica', 'Jennifer', 'Ramesh', 'Suresh', 'Ganesh', 'Komal', 'Mayuri']\n"
     ]
    }
   ],
   "source": [
    "print(name)"
   ]
  },
  {
   "cell_type": "code",
   "execution_count": 19,
   "id": "f4cdaf5a",
   "metadata": {},
   "outputs": [
    {
     "name": "stdout",
     "output_type": "stream",
     "text": [
      "['Male', 'Male', 'Male', 'Female', 'Female', 'Male', 'Male', 'Male', 'Female', 'Female']\n"
     ]
    }
   ],
   "source": [
    "print(gender)"
   ]
  },
  {
   "cell_type": "code",
   "execution_count": 20,
   "id": "9496d14e",
   "metadata": {},
   "outputs": [
    {
     "name": "stdout",
     "output_type": "stream",
     "text": [
      "['05-04-1988', '04-05-1987', '25-05-1989', '12-08-1990', '02-09-1989', '03-09-1989', '04-09-1990', '05-10-1989', '06-09-1989', '07-02-1988']\n"
     ]
    }
   ],
   "source": [
    "print(dob)"
   ]
  },
  {
   "cell_type": "code",
   "execution_count": 21,
   "id": "275f962a",
   "metadata": {},
   "outputs": [],
   "source": [
    "marks=open(\"student_marks.csv\",\"r\")"
   ]
  },
  {
   "cell_type": "code",
   "execution_count": 22,
   "id": "3a8fe258",
   "metadata": {},
   "outputs": [
    {
     "name": "stdout",
     "output_type": "stream",
     "text": [
      "[['Roll', 'Maths', 'Physics', 'Chemistry', 'Total', 'Percentage'], ['1', '55', '45', '56', '156', '52.00'], ['2', '75', '55', '55', '185', '61.67'], ['3', '25', '54', '89', '168', '56.00'], ['4', '78', '55', '86', '219', '73.00'], ['5', '58', '96', '78', '232', '77.33'], ['6', '88', '78', '58', '224', '74.67'], ['7', '56', '89', '69', '214', '71.33'], ['8', '54', '55', '88', '197', '65.67'], ['9', '46', '66', '65', '177', '59.00'], ['10', '89', '87', '54', '230', '76.67']]\n"
     ]
    }
   ],
   "source": [
    "mark=[]\n",
    "while True:\n",
    "    data=marks.readline()\n",
    "    if data:\n",
    "        data=data.replace(\"\\n\",\"\")\n",
    "        mark.append(data.split(\",\"))\n",
    "    else:\n",
    "        break\n",
    "print(mark)"
   ]
  },
  {
   "cell_type": "code",
   "execution_count": null,
   "id": "21416412",
   "metadata": {},
   "outputs": [],
   "source": []
  }
 ],
 "metadata": {
  "kernelspec": {
   "display_name": "Python 3 (ipykernel)",
   "language": "python",
   "name": "python3"
  },
  "language_info": {
   "codemirror_mode": {
    "name": "ipython",
    "version": 3
   },
   "file_extension": ".py",
   "mimetype": "text/x-python",
   "name": "python",
   "nbconvert_exporter": "python",
   "pygments_lexer": "ipython3",
   "version": "3.10.9"
  }
 },
 "nbformat": 4,
 "nbformat_minor": 5
}
