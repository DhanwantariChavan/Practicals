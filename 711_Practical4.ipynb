{
 "cells": [
  {
   "cell_type": "code",
   "execution_count": 1,
   "id": "f904e76a",
   "metadata": {},
   "outputs": [
    {
     "name": "stdout",
     "output_type": "stream",
     "text": [
      "      GrainName        State       City Months  Year    Sales\n",
      "0          Ragi  Maharashtra     Nagpur    JAN  2023  1000000\n",
      "1         Bajra       Panjab   Amritsar    FEB  2023  1500000\n",
      "2          Ragi  Maharashtra     Nagpur    JAN  2023  1000000\n",
      "3         Bajra       Panjab   Amritsar    FEB  2023  1500000\n",
      "4          Ragi  Maharashtra     Nagpur    JAN  2023  1000000\n",
      "5         Bajra       Panjab   Amritsar    FEB  2023  1500000\n",
      "6          Oats     Hariyana   Gurugram  MARCH  2023  2000000\n",
      "7        Sattu       Gujarat      Surat  APRIL  2023  2500000\n",
      "8         Sooji   Tamil Nadu    Madurai    MAY  2023  3000000\n",
      "9   Brown rice     Telangana  Hyderabad   JUNE  2023  3500000\n",
      "10        Wheat  West Bengol   Asansole   JULY  2023  4000000\n",
      "11         Corn           UP     Kanpur    AUG  2023  4500000\n",
      "12         Ragi  Maharashtra     Nagpur    JAN  2023  1000000\n",
      "13        Bajra       Panjab   Amritsar    FEB  2023  1500000\n",
      "14         Oats     Hariyana   Gurugram  MARCH  2023  2000000\n",
      "15       Sattu       Gujarat      Surat  APRIL  2023  2500000\n",
      "16        Sooji   Tamil Nadu    Madurai    MAY  2023  3000000\n",
      "17  Brown rice     Telangana  Hyderabad   JUNE  2023  3500000\n",
      "18        Wheat  West Bengol   Asansole   JULY  2023  4000000\n",
      "19         Corn           UP     Kanpur    AUG  2023  4500000\n",
      "20        Sooji   Tamil Nadu    Madurai    MAY  2023  3000000\n",
      "21  Brown rice     Telangana  Hyderabad   JUNE  2023  3500000\n",
      "22        Wheat  West Bengol   Asansole   JULY  2023  4000000\n",
      "23         Corn           UP     Kanpur    AUG  2023  4500000\n",
      "24         Ragi  Maharashtra     Nagpur    JAN  2023  1000000\n",
      "25  Brown rice     Telangana  Hyderabad   JUNE  2023  3500000\n",
      "26        Wheat  West Bengol   Asansole   JULY  2023  4000000\n"
     ]
    }
   ],
   "source": [
    "import pandas as pd\n",
    "df=pd.read_csv(\"grainsales.csv\")\n",
    "print(df)"
   ]
  },
  {
   "cell_type": "code",
   "execution_count": 25,
   "id": "9a004066",
   "metadata": {},
   "outputs": [
    {
     "name": "stdout",
     "output_type": "stream",
     "text": [
      "Max sales of grain MAY\n"
     ]
    }
   ],
   "source": [
    "print(\"Max sales of grain\",df['Months'].max())"
   ]
  },
  {
   "cell_type": "code",
   "execution_count": 3,
   "id": "e9f7446d",
   "metadata": {},
   "outputs": [
    {
     "name": "stdout",
     "output_type": "stream",
     "text": [
      "2685185.185185185\n"
     ]
    }
   ],
   "source": [
    "print(df[\"Sales\"].sum()/len(df[\"Sales\"]))"
   ]
  },
  {
   "cell_type": "code",
   "execution_count": 5,
   "id": "5bae871c",
   "metadata": {},
   "outputs": [
    {
     "ename": "TypeError",
     "evalue": "'RangeIndex' object is not callable",
     "output_type": "error",
     "traceback": [
      "\u001b[1;31m---------------------------------------------------------------------------\u001b[0m",
      "\u001b[1;31mTypeError\u001b[0m                                 Traceback (most recent call last)",
      "Cell \u001b[1;32mIn[5], line 1\u001b[0m\n\u001b[1;32m----> 1\u001b[0m \u001b[43mdf\u001b[49m\u001b[43m[\u001b[49m\u001b[38;5;124;43m\"\u001b[39;49m\u001b[38;5;124;43mSales\u001b[39;49m\u001b[38;5;124;43m\"\u001b[39;49m\u001b[43m]\u001b[49m\u001b[38;5;241;43m.\u001b[39;49m\u001b[43mindex\u001b[49m\u001b[43m(\u001b[49m\u001b[43mdf\u001b[49m\u001b[43m[\u001b[49m\u001b[38;5;124;43m\"\u001b[39;49m\u001b[38;5;124;43mSales\u001b[39;49m\u001b[38;5;124;43m\"\u001b[39;49m\u001b[43m]\u001b[49m\u001b[38;5;241;43m.\u001b[39;49m\u001b[43mmax\u001b[49m\u001b[43m(\u001b[49m\u001b[43m)\u001b[49m\u001b[43m)\u001b[49m\n",
      "\u001b[1;31mTypeError\u001b[0m: 'RangeIndex' object is not callable"
     ]
    }
   ],
   "source": [
    "# .index(df[\"Sales\"].max())"
   ]
  },
  {
   "cell_type": "code",
   "execution_count": 7,
   "id": "6ad1bc97",
   "metadata": {},
   "outputs": [
    {
     "data": {
      "text/plain": [
       "0     1000000\n",
       "1     1500000\n",
       "2     1000000\n",
       "3     1500000\n",
       "4     1000000\n",
       "5     1500000\n",
       "6     2000000\n",
       "7     2500000\n",
       "8     3000000\n",
       "9     3500000\n",
       "10    4000000\n",
       "11    4500000\n",
       "12    1000000\n",
       "13    1500000\n",
       "14    2000000\n",
       "15    2500000\n",
       "16    3000000\n",
       "17    3500000\n",
       "18    4000000\n",
       "19    4500000\n",
       "20    3000000\n",
       "21    3500000\n",
       "22    4000000\n",
       "23    4500000\n",
       "24    1000000\n",
       "25    3500000\n",
       "26    4000000\n",
       "Name: Sales, dtype: int64"
      ]
     },
     "execution_count": 7,
     "metadata": {},
     "output_type": "execute_result"
    }
   ],
   "source": [
    "df[\"Sales\"]"
   ]
  },
  {
   "cell_type": "code",
   "execution_count": 15,
   "id": "069a2651",
   "metadata": {},
   "outputs": [],
   "source": [
    "price=[]\n",
    "for j in df[\"Sales\"]:\n",
    "   price.append(j)"
   ]
  },
  {
   "cell_type": "code",
   "execution_count": 16,
   "id": "347d0877",
   "metadata": {},
   "outputs": [
    {
     "data": {
      "text/plain": [
       "[1000000,\n",
       " 1500000,\n",
       " 1000000,\n",
       " 1500000,\n",
       " 1000000,\n",
       " 1500000,\n",
       " 2000000,\n",
       " 2500000,\n",
       " 3000000,\n",
       " 3500000,\n",
       " 4000000,\n",
       " 4500000,\n",
       " 1000000,\n",
       " 1500000,\n",
       " 2000000,\n",
       " 2500000,\n",
       " 3000000,\n",
       " 3500000,\n",
       " 4000000,\n",
       " 4500000,\n",
       " 3000000,\n",
       " 3500000,\n",
       " 4000000,\n",
       " 4500000,\n",
       " 1000000,\n",
       " 3500000,\n",
       " 4000000]"
      ]
     },
     "execution_count": 16,
     "metadata": {},
     "output_type": "execute_result"
    }
   ],
   "source": [
    "price"
   ]
  },
  {
   "cell_type": "code",
   "execution_count": 18,
   "id": "05e5773d",
   "metadata": {},
   "outputs": [
    {
     "data": {
      "text/plain": [
       "4500000"
      ]
     },
     "execution_count": 18,
     "metadata": {},
     "output_type": "execute_result"
    }
   ],
   "source": [
    "max(price)"
   ]
  },
  {
   "cell_type": "code",
   "execution_count": 23,
   "id": "64a987c8",
   "metadata": {},
   "outputs": [],
   "source": [
    "maxindex=price.index(max(price))"
   ]
  },
  {
   "cell_type": "code",
   "execution_count": 21,
   "id": "a3c4aab3",
   "metadata": {},
   "outputs": [],
   "source": [
    "months=[]\n",
    "for l in df[\"Months\"]:\n",
    "   months.append(l)\n"
   ]
  },
  {
   "cell_type": "code",
   "execution_count": 22,
   "id": "551516f8",
   "metadata": {},
   "outputs": [
    {
     "data": {
      "text/plain": [
       "['JAN',\n",
       " 'FEB',\n",
       " 'JAN',\n",
       " 'FEB',\n",
       " 'JAN',\n",
       " 'FEB',\n",
       " 'MARCH',\n",
       " 'APRIL',\n",
       " 'MAY',\n",
       " 'JUNE',\n",
       " 'JULY',\n",
       " 'AUG',\n",
       " 'JAN',\n",
       " 'FEB',\n",
       " 'MARCH',\n",
       " 'APRIL',\n",
       " 'MAY',\n",
       " 'JUNE',\n",
       " 'JULY',\n",
       " 'AUG',\n",
       " 'MAY',\n",
       " 'JUNE',\n",
       " 'JULY',\n",
       " 'AUG',\n",
       " 'JAN',\n",
       " 'JUNE',\n",
       " 'JULY']"
      ]
     },
     "execution_count": 22,
     "metadata": {},
     "output_type": "execute_result"
    }
   ],
   "source": [
    "months"
   ]
  },
  {
   "cell_type": "code",
   "execution_count": 24,
   "id": "b734fd08",
   "metadata": {},
   "outputs": [
    {
     "name": "stdout",
     "output_type": "stream",
     "text": [
      "AUG\n"
     ]
    }
   ],
   "source": [
    "print(months[maxindex])"
   ]
  },
  {
   "cell_type": "code",
   "execution_count": null,
   "id": "b16c4ab0",
   "metadata": {},
   "outputs": [],
   "source": []
  }
 ],
 "metadata": {
  "kernelspec": {
   "display_name": "Python 3 (ipykernel)",
   "language": "python",
   "name": "python3"
  },
  "language_info": {
   "codemirror_mode": {
    "name": "ipython",
    "version": 3
   },
   "file_extension": ".py",
   "mimetype": "text/x-python",
   "name": "python",
   "nbconvert_exporter": "python",
   "pygments_lexer": "ipython3",
   "version": "3.10.9"
  }
 },
 "nbformat": 4,
 "nbformat_minor": 5
}
